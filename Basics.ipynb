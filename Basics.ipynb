{
 "cells": [
  {
   "cell_type": "markdown",
   "id": "1e56b764-b1ed-4ece-8c79-61526577b02b",
   "metadata": {
    "tags": []
   },
   "source": [
    "# Basics of `Python` Coding\n",
    "In this notebook we will explain basic `Python` for Machine Learning."
   ]
  },
  {
   "cell_type": "markdown",
   "id": "0ec6bc87-cf77-4550-bed6-3ae6886d9f2f",
   "metadata": {},
   "source": [
    "## Derived datatypes in `Python`."
   ]
  },
  {
   "cell_type": "markdown",
   "id": "98c303c9-77eb-4759-ba94-5f73a75d04fd",
   "metadata": {},
   "source": [
    ">**NOTE:** In Python `int`,`float`,`str` etc are atomic datatypes and no declaration is required."
   ]
  },
  {
   "cell_type": "markdown",
   "id": "a2d91c36-6c4d-48c2-b9a6-6a1fdc027084",
   "metadata": {},
   "source": [
    "## list=[value1,value2...]"
   ]
  },
  {
   "cell_type": "code",
   "execution_count": 2,
   "id": "32080cb2-d382-48aa-a1ba-71731f68c104",
   "metadata": {},
   "outputs": [],
   "source": [
    "my_list=[1,2,3]"
   ]
  },
  {
   "cell_type": "code",
   "execution_count": 3,
   "id": "e4c18f16-8700-49a8-9eb5-b560295980ca",
   "metadata": {},
   "outputs": [
    {
     "data": {
      "text/plain": [
       "[1, 2, 3]"
      ]
     },
     "execution_count": 3,
     "metadata": {},
     "output_type": "execute_result"
    }
   ],
   "source": [
    "my_list"
   ]
  },
  {
   "cell_type": "code",
   "execution_count": 4,
   "id": "f02655ad-6e9f-4019-87ad-3fdf231d8abf",
   "metadata": {},
   "outputs": [],
   "source": [
    "my_list=[1,'a',2,'b',3,'c']"
   ]
  },
  {
   "cell_type": "code",
   "execution_count": 5,
   "id": "ed048630-3d7b-42b6-92e8-bba0204e0d71",
   "metadata": {},
   "outputs": [
    {
     "data": {
      "text/plain": [
       "[1, 'a', 2, 'b', 3, 'c']"
      ]
     },
     "execution_count": 5,
     "metadata": {},
     "output_type": "execute_result"
    }
   ],
   "source": [
    "my_list"
   ]
  },
  {
   "cell_type": "code",
   "execution_count": 6,
   "id": "a44dc1da-7791-4b5a-8e47-46620588b0dc",
   "metadata": {},
   "outputs": [
    {
     "data": {
      "text/plain": [
       "1"
      ]
     },
     "execution_count": 6,
     "metadata": {},
     "output_type": "execute_result"
    }
   ],
   "source": [
    "my_list[0]"
   ]
  },
  {
   "cell_type": "code",
   "execution_count": 7,
   "id": "a7a8995d-9285-450b-8251-b117308c9dfd",
   "metadata": {},
   "outputs": [],
   "source": [
    "my_list=[1,2,[100,200]]"
   ]
  },
  {
   "cell_type": "code",
   "execution_count": 8,
   "id": "eafaff07-f39a-405b-899c-58409606d41f",
   "metadata": {},
   "outputs": [
    {
     "data": {
      "text/plain": [
       "200"
      ]
     },
     "execution_count": 8,
     "metadata": {},
     "output_type": "execute_result"
    }
   ],
   "source": [
    "my_list[2][1]"
   ]
  },
  {
   "cell_type": "code",
   "execution_count": 9,
   "id": "12dc87a7-1023-4fdb-9a07-84cea69712c1",
   "metadata": {},
   "outputs": [
    {
     "data": {
      "text/plain": [
       "[1, 2, [100, 200]]"
      ]
     },
     "execution_count": 9,
     "metadata": {},
     "output_type": "execute_result"
    }
   ],
   "source": [
    "my_list"
   ]
  },
  {
   "cell_type": "markdown",
   "id": "bf32f4d4-94ce-443c-ace3-3536b6f48ccd",
   "metadata": {},
   "source": [
    "## [:index] will print the values from starting to index-1"
   ]
  },
  {
   "cell_type": "code",
   "execution_count": 10,
   "id": "1f7c5c5d-5f84-4b42-9fd7-5c2153c9dec3",
   "metadata": {},
   "outputs": [],
   "source": [
    "my_list=['a','b','c','d']"
   ]
  },
  {
   "cell_type": "code",
   "execution_count": 11,
   "id": "4b9eea5f-27f0-4709-af89-ec9727121065",
   "metadata": {},
   "outputs": [
    {
     "data": {
      "text/plain": [
       "['a', 'b', 'c', 'd']"
      ]
     },
     "execution_count": 11,
     "metadata": {},
     "output_type": "execute_result"
    }
   ],
   "source": [
    "my_list"
   ]
  },
  {
   "cell_type": "code",
   "execution_count": 12,
   "id": "dadd325d-0a54-47cd-98fa-309cceb2fcbf",
   "metadata": {},
   "outputs": [
    {
     "data": {
      "text/plain": [
       "['a']"
      ]
     },
     "execution_count": 12,
     "metadata": {},
     "output_type": "execute_result"
    }
   ],
   "source": [
    "my_list[:1]"
   ]
  },
  {
   "cell_type": "code",
   "execution_count": 13,
   "id": "892e63a3-af1d-4633-bb2c-b3da89e686f5",
   "metadata": {},
   "outputs": [
    {
     "data": {
      "text/plain": [
       "['a', 'b', 'c']"
      ]
     },
     "execution_count": 13,
     "metadata": {},
     "output_type": "execute_result"
    }
   ],
   "source": [
    "my_list[:3]"
   ]
  },
  {
   "cell_type": "code",
   "execution_count": 14,
   "id": "059a5f5e-e7d8-479b-af8d-a6afdf274d1f",
   "metadata": {},
   "outputs": [],
   "source": [
    "my_list[0]=\"new\""
   ]
  },
  {
   "cell_type": "code",
   "execution_count": 15,
   "id": "f48a116e-28c4-4409-b1bb-250c2a78d785",
   "metadata": {},
   "outputs": [
    {
     "data": {
      "text/plain": [
       "['new', 'b', 'c', 'd']"
      ]
     },
     "execution_count": 15,
     "metadata": {},
     "output_type": "execute_result"
    }
   ],
   "source": [
    "my_list"
   ]
  },
  {
   "cell_type": "code",
   "execution_count": 17,
   "id": "76c32f83-6f5a-49f6-94b3-3b70178e3dc8",
   "metadata": {},
   "outputs": [],
   "source": [
    "my_list.append('e')"
   ]
  },
  {
   "cell_type": "code",
   "execution_count": 18,
   "id": "4d852db4-2111-4fb9-8f9e-6d00a4087e0d",
   "metadata": {},
   "outputs": [
    {
     "data": {
      "text/plain": [
       "['new', 'b', 'c', 'd', 'e']"
      ]
     },
     "execution_count": 18,
     "metadata": {},
     "output_type": "execute_result"
    }
   ],
   "source": [
    "my_list"
   ]
  },
  {
   "cell_type": "code",
   "execution_count": 19,
   "id": "16fbb747-514c-4a14-87a7-5acf48d0916c",
   "metadata": {},
   "outputs": [],
   "source": [
    "t=(1,2,3)"
   ]
  },
  {
   "cell_type": "code",
   "execution_count": 20,
   "id": "98d21c6f-0f32-468a-a372-d4a9b275df5c",
   "metadata": {},
   "outputs": [
    {
     "data": {
      "text/plain": [
       "(1, 2, 3)"
      ]
     },
     "execution_count": 20,
     "metadata": {},
     "output_type": "execute_result"
    }
   ],
   "source": [
    "t"
   ]
  },
  {
   "cell_type": "code",
   "execution_count": 21,
   "id": "b924519f-2a0d-4f41-bd30-835f9cd2ac40",
   "metadata": {},
   "outputs": [],
   "source": [
    "d={'Name':'Aiswarya','age':21}"
   ]
  },
  {
   "cell_type": "code",
   "execution_count": 22,
   "id": "9c009e5b-7d77-40fe-84bd-8a5ab31af786",
   "metadata": {},
   "outputs": [
    {
     "data": {
      "text/plain": [
       "{'Name': 'Aiswarya', 'age': 21}"
      ]
     },
     "execution_count": 22,
     "metadata": {},
     "output_type": "execute_result"
    }
   ],
   "source": [
    "d"
   ]
  },
  {
   "cell_type": "code",
   "execution_count": 23,
   "id": "d5f8d97c-2725-4c18-bc27-c4bc52f91471",
   "metadata": {},
   "outputs": [
    {
     "data": {
      "text/plain": [
       "21"
      ]
     },
     "execution_count": 23,
     "metadata": {},
     "output_type": "execute_result"
    }
   ],
   "source": [
    "d['age']"
   ]
  },
  {
   "cell_type": "code",
   "execution_count": 25,
   "id": "a9ea90e0-a3fe-4da8-85ca-6007f88d85d8",
   "metadata": {},
   "outputs": [
    {
     "data": {
      "text/plain": [
       "'Aiswarya'"
      ]
     },
     "execution_count": 25,
     "metadata": {},
     "output_type": "execute_result"
    }
   ],
   "source": [
    "d['Name']"
   ]
  },
  {
   "cell_type": "code",
   "execution_count": 26,
   "id": "b0aa4b22-84bd-4b30-b527-fe6f0f703a71",
   "metadata": {},
   "outputs": [
    {
     "data": {
      "text/plain": [
       "{1, 2, 3, 4}"
      ]
     },
     "execution_count": 26,
     "metadata": {},
     "output_type": "execute_result"
    }
   ],
   "source": [
    "{1,1,2,3,2,4,2,3,1}"
   ]
  },
  {
   "cell_type": "code",
   "execution_count": 27,
   "id": "52036830-f908-497e-81e2-8fbb0038559f",
   "metadata": {},
   "outputs": [],
   "source": [
    "def times2(var):\n",
    "    return var*2"
   ]
  },
  {
   "cell_type": "code",
   "execution_count": 29,
   "id": "3a41dc1b-2cdc-40bd-9b49-2c7969807b1f",
   "metadata": {},
   "outputs": [
    {
     "data": {
      "text/plain": [
       "18"
      ]
     },
     "execution_count": 29,
     "metadata": {},
     "output_type": "execute_result"
    }
   ],
   "source": [
    "times2(9)"
   ]
  },
  {
   "cell_type": "code",
   "execution_count": 30,
   "id": "6b1c1fa0-9e40-4abf-afb4-30a659e8d2ca",
   "metadata": {},
   "outputs": [],
   "source": [
    "times2=lambda var:var*2"
   ]
  },
  {
   "cell_type": "code",
   "execution_count": 31,
   "id": "685fa658-ebbc-4158-aa2f-ac7468dfbf4b",
   "metadata": {},
   "outputs": [
    {
     "name": "stdout",
     "output_type": "stream",
     "text": [
      "14\n"
     ]
    }
   ],
   "source": [
    "print(times2(7))"
   ]
  },
  {
   "cell_type": "code",
   "execution_count": 34,
   "id": "cd1c5312-f44f-463c-bd67-c40eb861f70d",
   "metadata": {},
   "outputs": [],
   "source": [
    "x=[1,2,3]"
   ]
  },
  {
   "cell_type": "code",
   "execution_count": 35,
   "id": "28009e4a-2362-4dd2-b469-37d2d1a923bb",
   "metadata": {},
   "outputs": [
    {
     "name": "stdout",
     "output_type": "stream",
     "text": [
      "[2, 4, 6]\n"
     ]
    }
   ],
   "source": [
    "out=[]\n",
    "for item in x:\n",
    "    out.append(item*2)\n",
    "print(out)\n",
    "    "
   ]
  },
  {
   "cell_type": "code",
   "execution_count": 36,
   "id": "bfec6c75-1d61-494a-beea-387a0bfddbeb",
   "metadata": {},
   "outputs": [
    {
     "data": {
      "text/plain": [
       "[2, 4, 6]"
      ]
     },
     "execution_count": 36,
     "metadata": {},
     "output_type": "execute_result"
    }
   ],
   "source": [
    "[item*2 for item in x]"
   ]
  },
  {
   "cell_type": "code",
   "execution_count": 40,
   "id": "212eb18a-14dd-4148-a537-460d44a511b8",
   "metadata": {},
   "outputs": [
    {
     "name": "stdout",
     "output_type": "stream",
     "text": [
      "my name is :Aishu,my age is :21\n"
     ]
    }
   ],
   "source": [
    "print(\"my name is :{0},my age is :{1}\".format('Aishu',21))"
   ]
  },
  {
   "cell_type": "code",
   "execution_count": 41,
   "id": "3056ed1b-6d31-4559-945c-e8c17b7236c1",
   "metadata": {},
   "outputs": [],
   "source": [
    "num=12\n",
    "name='sam'"
   ]
  },
  {
   "cell_type": "code",
   "execution_count": 42,
   "id": "ccb11271-b7a8-4f5a-b934-87ebbf1143f9",
   "metadata": {},
   "outputs": [
    {
     "name": "stdout",
     "output_type": "stream",
     "text": [
      "my name is:sam,my number is :12\n"
     ]
    }
   ],
   "source": [
    "print(\"my name is:{two},my number is :{one}\".format(one=num,two=name))"
   ]
  }
 ],
 "metadata": {
  "kernelspec": {
   "display_name": "Python 3 (Intel® oneAPI 2023.2)",
   "language": "python",
   "name": "c009-intel_distribution_of_python_3_oneapi-beta05-python"
  },
  "language_info": {
   "codemirror_mode": {
    "name": "ipython",
    "version": 3
   },
   "file_extension": ".py",
   "mimetype": "text/x-python",
   "name": "python",
   "nbconvert_exporter": "python",
   "pygments_lexer": "ipython3",
   "version": "3.9.16"
  }
 },
 "nbformat": 4,
 "nbformat_minor": 5
}
